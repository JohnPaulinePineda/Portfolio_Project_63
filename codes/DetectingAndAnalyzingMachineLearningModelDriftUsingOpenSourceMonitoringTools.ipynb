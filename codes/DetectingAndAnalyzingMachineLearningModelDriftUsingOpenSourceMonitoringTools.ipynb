{
 "cells": [
  {
   "cell_type": "markdown",
   "id": "8e29c65d",
   "metadata": {},
   "source": [
    "***\n",
    "# Model Deployment : Detecting and Analyzing Machine Learning Model Drift Using Open-Source Monitoring Tools"
   ]
  },
  {
   "cell_type": "markdown",
   "id": "7c52d179",
   "metadata": {},
   "source": [
    "***\n",
    "### [**John Pauline Pineda**](https://github.com/JohnPaulinePineda) <br> <br> *September 30, 2025*\n",
    "***"
   ]
  },
  {
   "cell_type": "markdown",
   "id": "4ced1d2b",
   "metadata": {},
   "source": [
    "* [**1. Table of Contents**](#TOC)\n",
    "    * [1.1 Data Background](#1.1)\n",
    "    * [1.2 Data Description](#1.2)\n",
    "    * [1.3 Data Quality Assessment](#1.3)\n",
    "    * [1.4 Data Preprocessing](#1.4)\n",
    "        * [1.4.1 Data Splitting](#1.4.1)\n",
    "        * [1.4.2 Outlier and Distributional Shape Analysis](#1.4.4)\n",
    "        * [1.4.3 Collinearity](#1.4.5)\n",
    "    * [1.5 Data Exploration](#1.5)\n",
    "        * [1.5.1 Exploratory Data Analysis](#1.5.1)\n",
    "        * [1.5.2 Hypothesis Testing](#1.5.2)\n",
    "    * [1.6 Premodelling Data Preparation](#1.6)\n",
    "        * [1.6.1 Preprocessed Data Description](#1.6.1)\n",
    "        * [1.6.2 Preprocessing Pipeline Development](#1.6.2)\n",
    "    * [1.7 Model Development and Validation](#1.7)\n",
    "        * [1.7.1 Random Forest](#1.7.1)\n",
    "        * [1.7.2 AdaBoost](#1.7.2)\n",
    "        * [1.7.3 Gradient Boosting](#1.7.3)\n",
    "        * [1.7.4 XGBoost](#1.7.4)\n",
    "        * [1.7.5 Light GBM](#1.7.5)\n",
    "        * [1.7.6 CatBoost](#1.7.6)\n",
    "    * [1.8 Model Monitoring using the NannyML Framework](#1.8)\n",
    "        * [1.8.1 Baseline Control](#1.8.1)\n",
    "        * [1.8.2 Simulated Covariate Drift](#1.8.2)\n",
    "        * [1.8.3 Simulated Prior Shift](#1.8.3)\n",
    "        * [1.8.4 Simulated Concept Drift](#1.8.4)\n",
    "        * [1.8.5 Simulated Missingness Spike](#1.8.5)\n",
    "        * [1.8.6 Simulated Seasonal Pattern](#1.8.6)\n",
    "* [**2. Summary**](#Summary)   \n",
    "* [**3. References**](#References)\n",
    "\n",
    "***"
   ]
  },
  {
   "cell_type": "markdown",
   "id": "d2fc698d",
   "metadata": {},
   "source": [
    "# 1. Table of Contents <a class=\"anchor\" id=\"TOC\"></a>"
   ]
  },
  {
   "cell_type": "markdown",
   "id": "ab8d4184",
   "metadata": {},
   "source": [
    "## 1.1. Data Background <a class=\"anchor\" id=\"1.1\"></a>"
   ]
  },
  {
   "cell_type": "markdown",
   "id": "da4f7e47",
   "metadata": {},
   "source": [
    "## 1.2. Data Description <a class=\"anchor\" id=\"1.2\"></a>"
   ]
  },
  {
   "cell_type": "markdown",
   "id": "2ba5616b",
   "metadata": {},
   "source": [
    "## 1.3. Data Quality Assessment <a class=\"anchor\" id=\"1.3\"></a>"
   ]
  },
  {
   "cell_type": "markdown",
   "id": "421e0d2e",
   "metadata": {},
   "source": [
    "## 1.4. Data Preprocessing <a class=\"anchor\" id=\"1.4\"></a>"
   ]
  },
  {
   "cell_type": "markdown",
   "id": "2d6a1e51",
   "metadata": {},
   "source": [
    "### 1.4.1 Data Splitting<a class=\"anchor\" id=\"1.4.1\"></a>"
   ]
  },
  {
   "cell_type": "markdown",
   "id": "03795e18",
   "metadata": {},
   "source": [
    "### 1.4.2 Outlier and Distributional Shape Analysis<a class=\"anchor\" id=\"1.4.2\"></a>"
   ]
  },
  {
   "cell_type": "markdown",
   "id": "7c786a5d",
   "metadata": {},
   "source": [
    "### 1.4.3 Collinearity<a class=\"anchor\" id=\"1.4.3\"></a>"
   ]
  },
  {
   "cell_type": "markdown",
   "id": "05d49982",
   "metadata": {},
   "source": [
    "## 1.5. Data Exploration <a class=\"anchor\" id=\"1.5\"></a>"
   ]
  },
  {
   "cell_type": "markdown",
   "id": "408a14ef",
   "metadata": {},
   "source": [
    "### 1.5.1 Exploratory Data Analysis<a class=\"anchor\" id=\"1.5.1\"></a>"
   ]
  },
  {
   "cell_type": "markdown",
   "id": "89b7faee",
   "metadata": {},
   "source": [
    "### 1.5.2 Hypothesis Testing<a class=\"anchor\" id=\"1.5.2\"></a>"
   ]
  },
  {
   "cell_type": "markdown",
   "id": "d7d8f7fd",
   "metadata": {},
   "source": [
    "## 1.6. Premodelling Data Preparation <a class=\"anchor\" id=\"1.6\"></a>"
   ]
  },
  {
   "cell_type": "markdown",
   "id": "22fd580a",
   "metadata": {},
   "source": [
    "### 1.6.1 Preprocessed Data Description<a class=\"anchor\" id=\"1.6.1\"></a>"
   ]
  },
  {
   "cell_type": "markdown",
   "id": "aabb9686",
   "metadata": {},
   "source": [
    "### 1.6.2 Preprocessing Pipeline Development<a class=\"anchor\" id=\"1.6.2\"></a>"
   ]
  },
  {
   "cell_type": "markdown",
   "id": "5aef1a55",
   "metadata": {},
   "source": [
    "## 1.7. Model Development and Validation <a class=\"anchor\" id=\"1.7\"></a>"
   ]
  },
  {
   "cell_type": "markdown",
   "id": "d86e2ea8",
   "metadata": {},
   "source": [
    "### 1.7.1 Random Forest<a class=\"anchor\" id=\"1.7.1\"></a>"
   ]
  },
  {
   "cell_type": "markdown",
   "id": "0ac74cee",
   "metadata": {},
   "source": [
    "### 1.7.2 AdaBoost<a class=\"anchor\" id=\"1.7.2\"></a>"
   ]
  },
  {
   "cell_type": "markdown",
   "id": "0bb8c374",
   "metadata": {},
   "source": [
    "### 1.7.3 Gradient Boosting<a class=\"anchor\" id=\"1.7.3\"></a>"
   ]
  },
  {
   "cell_type": "markdown",
   "id": "0bf4212b",
   "metadata": {},
   "source": [
    "### 1.7.4 XGBoost<a class=\"anchor\" id=\"1.7.4\"></a>"
   ]
  },
  {
   "cell_type": "markdown",
   "id": "7259b256",
   "metadata": {},
   "source": [
    "### 1.7.5 Light GBM<a class=\"anchor\" id=\"1.7.5\"></a>"
   ]
  },
  {
   "cell_type": "markdown",
   "id": "cb88d328",
   "metadata": {},
   "source": [
    "### 1.7.6 CatBoost<a class=\"anchor\" id=\"1.7.6\"></a>"
   ]
  },
  {
   "cell_type": "markdown",
   "id": "46d7ede6",
   "metadata": {},
   "source": [
    "## 1.8. Model Monitoring using the NannyML Framework <a class=\"anchor\" id=\"1.8\"></a>"
   ]
  },
  {
   "cell_type": "markdown",
   "id": "aed768c9",
   "metadata": {},
   "source": [
    "### 1.8.1 Baseline Control<a class=\"anchor\" id=\"1.8.1\"></a>"
   ]
  },
  {
   "cell_type": "markdown",
   "id": "1f1bbd8e",
   "metadata": {},
   "source": [
    "### 1.8.2 Simulated Covariate Drift<a class=\"anchor\" id=\"1.8.2\"></a>"
   ]
  },
  {
   "cell_type": "markdown",
   "id": "f6d836c3",
   "metadata": {},
   "source": [
    "### 1.8.3 Simulated Prior Shift<a class=\"anchor\" id=\"1.8.3\"></a>"
   ]
  },
  {
   "cell_type": "markdown",
   "id": "dbd311ef",
   "metadata": {},
   "source": [
    "### 1.8.4 Simulated Concept Drift<a class=\"anchor\" id=\"1.8.4\"></a>"
   ]
  },
  {
   "cell_type": "markdown",
   "id": "ac53250f",
   "metadata": {},
   "source": [
    "### 1.8.5 Simulated Missingness Spike<a class=\"anchor\" id=\"1.8.5\"></a>"
   ]
  },
  {
   "cell_type": "markdown",
   "id": "8abcfcb5",
   "metadata": {},
   "source": [
    "### 1.8.6 Simulated Seasonal Pattern<a class=\"anchor\" id=\"1.8.6\"></a>"
   ]
  },
  {
   "cell_type": "markdown",
   "id": "7162441d",
   "metadata": {},
   "source": [
    "## 1.9. Consolidated Findings <a class=\"anchor\" id=\"1.9\"></a>"
   ]
  },
  {
   "cell_type": "markdown",
   "id": "86a94785",
   "metadata": {},
   "source": [
    "# 2. Summary <a class=\"anchor\" id=\"Summary\"></a>"
   ]
  },
  {
   "cell_type": "markdown",
   "id": "a8a14f94",
   "metadata": {},
   "source": [
    "# 3. References <a class=\"anchor\" id=\"References\"></a>"
   ]
  }
 ],
 "metadata": {
  "kernelspec": {
   "display_name": "mlexplore_venv",
   "language": "python",
   "name": "python3"
  },
  "language_info": {
   "name": "python",
   "version": "3.12.5"
  }
 },
 "nbformat": 4,
 "nbformat_minor": 5
}
